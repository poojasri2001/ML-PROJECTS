{
 "cells": [
  {
   "cell_type": "code",
   "execution_count": 1,
   "id": "8a2d71fc",
   "metadata": {},
   "outputs": [],
   "source": [
    "%store -r logistic_bal_ros_model\n",
    "%store -r xgb_bal_ros_model\n",
    "%store -r dt_bal_ros_model\n",
    "%store -r rfc_imb_model"
   ]
  },
  {
   "cell_type": "code",
   "execution_count": 2,
   "id": "113574d5",
   "metadata": {},
   "outputs": [
    {
     "name": "stdout",
     "output_type": "stream",
     "text": [
      "[1]\n"
     ]
    }
   ],
   "source": [
    "import numpy as np\n",
    "X=np.array([[-1.359807134,-0.072781173,2.536346738,1.378155224,-0.33832077,0.462387778,0.239598554,0.098697901,0.36378697,0.090794172,-0.551599533,-0.617800856,-0.991389847,-0.311169354,1.468176972,-0.470400525,0.207971242,0.02579058,0.40399296,0.251412098,-0.018306778,0.277837576,-0.11047391,0.066928075,0.128539358,-0.189114844,0.133558377,-0.021053053,149.62,\n",
    "]])\n",
    "y=0\n",
    "prediction=logistic_bal_ros_model.predict(X)\n",
    "print(prediction)"
   ]
  },
  {
   "cell_type": "code",
   "execution_count": 3,
   "id": "040353ad",
   "metadata": {},
   "outputs": [
    {
     "name": "stdout",
     "output_type": "stream",
     "text": [
      "[0]\n"
     ]
    }
   ],
   "source": [
    "import numpy as np\n",
    "X=np.array([[1.191857111,0.266150712,0.166480113,0.448154078,0.060017649,-0.082360809,-0.078802983,0.085101655,-0.255425128,-0.166974414,1.612726661,1.065235311,0.489095016,-0.143772296,0.635558093,0.463917041,-0.114804663,-0.18336127,-0.145783041,-0.069083135,-0.225775248,-0.638671953,0.101288021,-0.339846476,0.167170404,0.125894532,-0.008983099,0.014724169,2.69\n",
    "]])\n",
    "y=0\n",
    "prediction=xgb_bal_ros_model.predict(X)\n",
    "print(prediction)"
   ]
  },
  {
   "cell_type": "code",
   "execution_count": 4,
   "id": "224e6490",
   "metadata": {},
   "outputs": [
    {
     "name": "stdout",
     "output_type": "stream",
     "text": [
      "[1]\n"
     ]
    }
   ],
   "source": [
    "import numpy as np\n",
    "X=np.array([[-2.312226542,1.951992011,-1.609850732,3.997905588,-0.522187865,-1.426545319,-2.537387306,1.391657248,-2.770089277,-2.772272145,3.202033207,-2.899907388,-0.595221881,-4.289253782,0.38972412,-1.14074718,-2.830055675,-0.016822468,0.416955705,0.126910559,0.517232371,-0.035049369,-0.465211076,0.320198199,0.044519167,0.177839798,0.261145003,-0.143275875,0\n",
    "]])\n",
    "y=1\n",
    "prediction=dt_bal_ros_model.predict(X)\n",
    "print(prediction)"
   ]
  },
  {
   "cell_type": "code",
   "execution_count": 5,
   "id": "737892f0",
   "metadata": {},
   "outputs": [
    {
     "name": "stdout",
     "output_type": "stream",
     "text": [
      "[0]\n"
     ]
    }
   ],
   "source": [
    "import numpy as np\n",
    "X=np.array([[0.736061881,.104863639,0.56355044,1.796915784,0.727808949,0.17756103,0.264345921,0.79151819,0.672160027,0.096591623,1.19004828,0.887365917,.263957872,0.914016413,-0.196125709,1.49288257,-0.096400495,-0.937396457,0.219976772,0.271757424,0.13268334,0.432163431,-0.347869502,-0.126574456,0.487953165,-0.235765257,0.304175768,0.126340498,15\n",
    "]])\n",
    "y=0\n",
    "prediction=rfc_imb_model.predict(X)\n",
    "print(prediction)"
   ]
  },
  {
   "cell_type": "code",
   "execution_count": 6,
   "id": "2bdbc595",
   "metadata": {},
   "outputs": [],
   "source": [
    "%store -r logistic_bal_smote_model\n",
    "%store -r xgb_bal_smote_model\n",
    "%store -r dt_bal_smote_model\n",
    "%store -r rfc_imb_smote_model"
   ]
  },
  {
   "cell_type": "code",
   "execution_count": 7,
   "id": "d8ca2c64",
   "metadata": {},
   "outputs": [
    {
     "name": "stdout",
     "output_type": "stream",
     "text": [
      "[0]\n"
     ]
    }
   ],
   "source": [
    "import numpy as np\n",
    "X=np.array([[-1.030746504,0.894746951,2.375619842,0.218371812,-0.86212636,-0.180483155,-0.26029937,0.592380546,-0.017765041,-1.034505383,-1.001593867,0.296203311,0.147483713,-0.212702732,0.00186383,0.141085155,0.052774866,-0.029849894,0.207954929,-0.097824815,0.006202865,0.020326243,-0.216072482,0.435669714,0.19286444,0.351030424,-0.066266128,0.005582599,3.98\n",
    "]])\n",
    "y=0\n",
    "prediction=logistic_bal_smote_model.predict(X)\n",
    "print(prediction)"
   ]
  },
  {
   "cell_type": "code",
   "execution_count": 8,
   "id": "fb9588c9",
   "metadata": {},
   "outputs": [
    {
     "name": "stdout",
     "output_type": "stream",
     "text": [
      "[1]\n"
     ]
    }
   ],
   "source": [
    "import numpy as np\n",
    "X=np.array([[-2.312226542,1.951992011,-1.609850732,3.997905588,-0.522187865,-1.426545319,-2.537387306,1.391657248,-2.770089277,-2.772272145,3.202033207,-2.899907388,-0.595221881,-4.289253782,0.38972412,-1.14074718,-2.830055675,-0.016822468,0.416955705,0.126910559,0.517232371,-0.035049369,-0.465211076,0.320198199,0.044519167,0.177839798,0.261145003,-0.143275875,0\n",
    "]])\n",
    "y=1\n",
    "prediction=xgb_bal_smote_model.predict(X)\n",
    "print(prediction)"
   ]
  },
  {
   "cell_type": "code",
   "execution_count": 9,
   "id": "e8923b43",
   "metadata": {},
   "outputs": [
    {
     "name": "stdout",
     "output_type": "stream",
     "text": [
      "[0]\n"
     ]
    }
   ],
   "source": [
    "import numpy as np\n",
    "X=np.array([[0.96543363,-0.559999481,-0.024012144,0.793299316,-0.416332275,-0.20563467,0.107858851,-0.063304618,0.67337508,-0.237234017,-1.602819785,-0.396668477,-0.993154159,0.14393869,-0.004896865,0.036574479,-0.202511761,-0.26760017,0.48818085,0.176423611,-0.198279809,-0.820253817,-0.225598553,-0.446018045,0.465659381,0.307254873,-0.062519624,0.03116794,174.88\n",
    "]])\n",
    "y=0\n",
    "prediction= dt_bal_smote_model.predict(X)\n",
    "print(prediction)"
   ]
  },
  {
   "cell_type": "code",
   "execution_count": 10,
   "id": "d467aa04",
   "metadata": {},
   "outputs": [
    {
     "name": "stdout",
     "output_type": "stream",
     "text": [
      "[0]\n"
     ]
    }
   ],
   "source": [
    "import numpy as np\n",
    "X=np.array([[-2.303349568,.75924746,0.359744743,0.30243051,0.821628328,0.075787571,.562319782,0.399146578,0.238253368,1.525411627,.032912158,6.560124295,.022937323,-1.470101536,-0.698826069,-2.282193829,-4.781830856,-2.615664945,-1.334441067,-0.430021867,-0.294166318,-0.932391057,0.172726296,-0.087329538,-0.156114265,-0.542627889,0.039565989,-0.153028797,239.93\n",
    "]])\n",
    "y=1\n",
    "prediction=rfc_imb_smote_model.predict(X)\n",
    "print(prediction)"
   ]
  },
  {
   "cell_type": "code",
   "execution_count": 11,
   "id": "57444027",
   "metadata": {},
   "outputs": [],
   "source": [
    "%store -r logistic_bal_adasyn_model\n",
    "%store -r xgb_bal_adasyn_model\n",
    "%store -r dt_bal_adasyn_model\n",
    "%store -r rfc_imb_adasyn_model"
   ]
  },
  {
   "cell_type": "code",
   "execution_count": 12,
   "id": "3e69524a",
   "metadata": {},
   "outputs": [
    {
     "name": "stdout",
     "output_type": "stream",
     "text": [
      "[0]\n"
     ]
    }
   ],
   "source": [
    "import numpy as np\n",
    "X=np.array([[-0.331775098,1.179798938,0.674511484,1.016720269,-0.313839851,-0.777467623,0.521520681,0.213915443,-0.805391592,-0.415953852,-0.541663128,0.395594535,0.723693508,0.504673171,0.914309575,-0.168895627,-0.080408619,0.058828806,0.331541976,-0.022177134,0.201251997,0.468348783,0.018681524,0.403102754,-0.097928192,0.330798284,0.051906536,0.014369509,4.49\n",
    "]])\n",
    "y=0\n",
    "prediction=logistic_bal_adasyn_model.predict(X)\n",
    "print(prediction)"
   ]
  },
  {
   "cell_type": "code",
   "execution_count": 13,
   "id": "cb864272",
   "metadata": {},
   "outputs": [
    {
     "name": "stdout",
     "output_type": "stream",
     "text": [
      "[0]\n"
     ]
    }
   ],
   "source": [
    "import numpy as np\n",
    "X=np.array([[-2.303349568,.75924746,0.359744743,0.30243051,0.821628328,0.075787571,.562319782,0.399146578,0.238253368,1.525411627,.032912158,6.560124295,.022937323,-1.470101536,-0.698826069,-2.282193829,-4.781830856,-2.615664945,-1.334441067,-0.430021867,-0.294166318,-0.932391057,0.172726296,-0.087329538,-0.156114265,-0.542627889,0.039565989,-0.153028797,239.93\n",
    "]])\n",
    "y=1\n",
    "prediction=xgb_bal_adasyn_model.predict(X)\n",
    "print(prediction)"
   ]
  },
  {
   "cell_type": "code",
   "execution_count": 14,
   "id": "37f9f152",
   "metadata": {},
   "outputs": [
    {
     "name": "stdout",
     "output_type": "stream",
     "text": [
      "[0]\n"
     ]
    }
   ],
   "source": [
    "import numpy as np\n",
    "X=np.array([[-12.51673185,10.18781804,-8.476670667,-2.510473263,-4.586669149,-1.394464749,-3.632516197,5.498582539,4.893089081,8.65531964,-1.052364861,2.834864812,1.088141217,1.288401353,-0.931502939,1.06786447,0.586178801,-0.085524091,-0.571605412,3.490065173,-0.94475859,-1.5650262,0.890674705,-1.253275832,1.786716833,0.320763234,0.09711757,0.32864423,0.8\n",
    "]])\n",
    "y=0\n",
    "prediction=dt_bal_adasyn_model.predict(X)\n",
    "print(prediction)"
   ]
  },
  {
   "cell_type": "code",
   "execution_count": 15,
   "id": "d7325f0d",
   "metadata": {},
   "outputs": [
    {
     "name": "stdout",
     "output_type": "stream",
     "text": [
      "[0]\n"
     ]
    }
   ],
   "source": [
    "import numpy as np\n",
    "X=np.array([[1.913928242,-1.099470365,-2.000808905,-1.79393033,1.517899327,3.513131824,-1.181802114,0.939998369,1.393939963,-0.385654642,0.095927847,0.45428197,0.070746509,0.136211754,1.596715421,0.168345027,-0.598805158,-0.039966412,-0.075231575,0.044453165,0.214124619,0.541156543,0.164143802,0.778470651,-0.323384701,0.719070185,-0.03003594,-0.047482268,70\n",
    "]])\n",
    "y=0\n",
    "prediction=rfc_imb_adasyn_model.predict(X)\n",
    "print(prediction)"
   ]
  },
  {
   "cell_type": "code",
   "execution_count": null,
   "id": "52f4e206",
   "metadata": {},
   "outputs": [],
   "source": []
  }
 ],
 "metadata": {
  "kernelspec": {
   "display_name": "Python 3 (ipykernel)",
   "language": "python",
   "name": "python3"
  },
  "language_info": {
   "codemirror_mode": {
    "name": "ipython",
    "version": 3
   },
   "file_extension": ".py",
   "mimetype": "text/x-python",
   "name": "python",
   "nbconvert_exporter": "python",
   "pygments_lexer": "ipython3",
   "version": "3.9.7"
  }
 },
 "nbformat": 4,
 "nbformat_minor": 5
}
