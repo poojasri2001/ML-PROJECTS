{
 "cells": [
  {
   "cell_type": "code",
   "execution_count": 1,
   "id": "b8de3454",
   "metadata": {},
   "outputs": [],
   "source": [
    "import numpy as np\n",
    "import pandas as pd\n",
    "import matplotlib.pyplot as plt"
   ]
  },
  {
   "cell_type": "code",
   "execution_count": 2,
   "id": "d722a038",
   "metadata": {},
   "outputs": [],
   "source": [
    "leaf1=pd.read_csv('C:/Users/HP/Downloads/leaf.csv')"
   ]
  },
  {
   "cell_type": "code",
   "execution_count": 3,
   "id": "44918e18",
   "metadata": {},
   "outputs": [
    {
     "data": {
      "text/plain": [
       "array([[0.00000000e+00, 1.87605200e+06, 5.54400000e+03, ...,\n",
       "        9.98399840e-01, 8.71316669e-01, 7.01788557e+00],\n",
       "       [0.00000000e+00, 1.75090500e+06, 5.38800000e+03, ...,\n",
       "        9.97333115e-01, 8.69411584e-01, 6.89946773e+00],\n",
       "       [0.00000000e+00, 1.74930600e+06, 5.38600000e+03, ...,\n",
       "        9.96869442e-01, 9.10523752e-01, 6.11017524e+00],\n",
       "       ...,\n",
       "       [0.00000000e+00, 1.14968100e+06, 4.63600000e+03, ...,\n",
       "        9.97696589e-01, 9.30295839e-01, 5.58019037e+00],\n",
       "       [0.00000000e+00, 1.14968100e+06, 4.63600000e+03, ...,\n",
       "        9.97490457e-01, 9.41047543e-01, 5.28799833e+00],\n",
       "       [0.00000000e+00, 1.14968100e+06, 4.63600000e+03, ...,\n",
       "        9.96144108e-01, 9.36064173e-01, 4.88929470e+00]])"
      ]
     },
     "execution_count": 3,
     "metadata": {},
     "output_type": "execute_result"
    }
   ],
   "source": [
    "x= leaf1.iloc[:, :-1].values  \n",
    "x"
   ]
  },
  {
   "cell_type": "code",
   "execution_count": 4,
   "id": "207e9668",
   "metadata": {},
   "outputs": [
    {
     "data": {
      "text/plain": [
       "array(['Alari', 'Alari', 'Alari', ..., 'White Karisalankani',\n",
       "       'White Karisalankani', 'White Karisalankani'], dtype=object)"
      ]
     },
     "execution_count": 4,
     "metadata": {},
     "output_type": "execute_result"
    }
   ],
   "source": [
    "y= leaf1.iloc[:, 18].values  \n",
    "y"
   ]
  },
  {
   "cell_type": "code",
   "execution_count": 5,
   "id": "6b5c014c",
   "metadata": {},
   "outputs": [],
   "source": [
    "from sklearn.model_selection import train_test_split\n",
    "X_train, X_test, y_train, y_test = train_test_split(x, y, test_size=0.25, random_state = 0)"
   ]
  },
  {
   "cell_type": "code",
   "execution_count": 6,
   "id": "bf457014",
   "metadata": {},
   "outputs": [],
   "source": [
    "from sklearn.preprocessing import StandardScaler\n",
    "sc = StandardScaler()\n",
    "X_train = sc.fit_transform(X_train)\n",
    "X_test = sc.transform(X_test)"
   ]
  },
  {
   "cell_type": "code",
   "execution_count": 7,
   "id": "e52f983d",
   "metadata": {},
   "outputs": [],
   "source": [
    "from sklearn import svm\n",
    "clf = svm.SVC()\n",
    "clf.fit(X_train,y_train)\n",
    "y_pred = clf.predict(X_test)"
   ]
  },
  {
   "cell_type": "code",
   "execution_count": 8,
   "id": "bf9b0acf",
   "metadata": {},
   "outputs": [
    {
     "data": {
      "text/plain": [
       "0.7138888888888889"
      ]
     },
     "execution_count": 8,
     "metadata": {},
     "output_type": "execute_result"
    }
   ],
   "source": [
    "from sklearn import metrics\n",
    "metrics.accuracy_score(y_test, y_pred)"
   ]
  },
  {
   "cell_type": "code",
   "execution_count": null,
   "id": "ccc5825c",
   "metadata": {},
   "outputs": [],
   "source": []
  }
 ],
 "metadata": {
  "kernelspec": {
   "display_name": "Python 3 (ipykernel)",
   "language": "python",
   "name": "python3"
  },
  "language_info": {
   "codemirror_mode": {
    "name": "ipython",
    "version": 3
   },
   "file_extension": ".py",
   "mimetype": "text/x-python",
   "name": "python",
   "nbconvert_exporter": "python",
   "pygments_lexer": "ipython3",
   "version": "3.9.7"
  }
 },
 "nbformat": 4,
 "nbformat_minor": 5
}
